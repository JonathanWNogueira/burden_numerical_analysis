{
 "cells": [
  {
   "cell_type": "code",
   "execution_count": 85,
   "metadata": {},
   "outputs": [],
   "source": [
    "import numpy as np\n",
    "from scipy.linalg import solve\n",
    "\n",
    "A = np.array([[2.0, -1.0, 0.0, 0],\n",
    "              [-1.0, 2.0, -1.0, 0],\n",
    "              [0.0, -1.0, 2.0, -1],\n",
    "              [0,0,-1,2]])\n",
    "b = np.array([1.0, 0, 0,1.0])"
   ]
  },
  {
   "cell_type": "markdown",
   "metadata": {},
   "source": [
    "**Método Iterativo de Jacobi**"
   ]
  },
  {
   "cell_type": "code",
   "execution_count": 86,
   "metadata": {},
   "outputs": [
    {
     "name": "stdout",
     "output_type": "stream",
     "text": [
      "51\n",
      "[0.99998537 0.99997632 0.99997632 0.99998537]\n"
     ]
    }
   ],
   "source": [
    "def jacobi(A, b, x0 = None, e = 1e-5, max_i = 100):\n",
    "    n = len(b)\n",
    "\n",
    "    x = np.zeros_like(b) if x0 is None else x0\n",
    "\n",
    "    for j in range(max_i):\n",
    "        xi = np.copy(x)\n",
    "        for i in range(n):\n",
    "            sum_terms = np.dot(A[i, :i], x[:i]) + np.dot(A[i, i+1:], x[i+1:])\n",
    "            xi[i] = (b[i] - sum_terms) / A[i, i]\n",
    "\n",
    "        if np.linalg.norm(xi - x) < e: return xi, j+1\n",
    "        x = xi\n",
    "    return x, max_i\n",
    "\n",
    "x, iters = jacobi(A.copy(), b.copy())\n",
    "\n",
    "print(iters)\n",
    "print(x)"
   ]
  },
  {
   "cell_type": "markdown",
   "metadata": {},
   "source": [
    "**Método Iterativo de Gauss-Seidel**"
   ]
  },
  {
   "cell_type": "code",
   "execution_count": 87,
   "metadata": {},
   "outputs": [
    {
     "name": "stdout",
     "output_type": "stream",
     "text": [
      "28\n",
      "[0.9999919  0.9999894  0.99999142 0.99999571]\n"
     ]
    }
   ],
   "source": [
    "def gauss_seidel(A, b, x0 = None, e = 1e-5, max_i = 100):\n",
    "    n = len(b)\n",
    "    x = np.zeros_like(b) if x0 is None else x0\n",
    "\n",
    "    for j in range(max_i):\n",
    "        xi = np.copy(x)\n",
    "\n",
    "        for i in range(n):\n",
    "            sum_terms = np.dot(A[i, :i], xi[:i]) + np.dot(A[i, i+1:], x[i+1:])\n",
    "            xi[i] = (b[i] - sum_terms) / A[i, i]\n",
    "\n",
    "        if np.linalg.norm(xi - x) < e: return xi, j+1\n",
    "        x = xi\n",
    "    return x, max_i\n",
    "\n",
    "x, iters = gauss_seidel(A.copy(), b.copy())\n",
    "\n",
    "print(iters)\n",
    "print(x)"
   ]
  },
  {
   "cell_type": "markdown",
   "metadata": {},
   "source": [
    "**Método Iterativo Sobre-Relaxação Sucessiva (SOR)**"
   ]
  },
  {
   "cell_type": "code",
   "execution_count": 88,
   "metadata": {},
   "outputs": [
    {
     "name": "stdout",
     "output_type": "stream",
     "text": [
      "11\n",
      "[0.99999849 1.00000104 1.00000073 1.00000027]\n"
     ]
    }
   ],
   "source": [
    "def sor(A, b, x0 = None, omega = 1.0, e = 1e-5, max_i = 100):\n",
    "    n = len(b)\n",
    "    x = np.zeros_like(b) if x0 is None else x0\n",
    "\n",
    "    for j in range(max_i):\n",
    "        xi = np.copy(x)\n",
    "\n",
    "        for i in range(n):\n",
    "            sum_terms = np.dot(A[i, :i], xi[:i]) + np.dot(A[i, i+1:], x[i+1:])\n",
    "            xi[i] = (1 - omega) * x[i] + omega * (b[i] - sum_terms) / A[i, i]\n",
    "\n",
    "        if np.linalg.norm(xi - x) < e: return xi, j+1 \n",
    "        x = xi\n",
    "    return x, max_i\n",
    "omega = 1.27\n",
    "x1, iters = sor(A.copy(), b.copy(), omega = omega)\n",
    "\n",
    "print(iters)\n",
    "print(x1)"
   ]
  },
  {
   "cell_type": "markdown",
   "metadata": {},
   "source": [
    "**Método do Refinamento Iterativo**"
   ]
  },
  {
   "cell_type": "code",
   "execution_count": 89,
   "metadata": {},
   "outputs": [
    {
     "name": "stdout",
     "output_type": "stream",
     "text": [
      "[0.9999919  0.9999894  0.99999142 0.99999571]\n",
      "2\n",
      "[1. 1. 1. 1.]\n"
     ]
    }
   ],
   "source": [
    "def iterative_refinement(A, b, x0, e = 1e-5, max_i = 10):\n",
    "    x = x0\n",
    "    print(x0)\n",
    "    \n",
    "    for j in range(max_i):\n",
    "        r = b - np.dot(A, x)\n",
    "        xi = solve(A.copy(),r)\n",
    "        x += xi\n",
    "        \n",
    "        if np.linalg.norm(xi) < e: return x, j+1 \n",
    "    return x, max_i\n",
    "\n",
    "x0 = x\n",
    "x, iters = iterative_refinement(A.copy(), b.copy(), x0)\n",
    "\n",
    "print(iters)\n",
    "print(x)\n"
   ]
  },
  {
   "cell_type": "markdown",
   "metadata": {},
   "source": [
    "**Gradiente Conjugado Precondicionado**"
   ]
  },
  {
   "cell_type": "code",
   "execution_count": 90,
   "metadata": {},
   "outputs": [
    {
     "name": "stdout",
     "output_type": "stream",
     "text": [
      "3\n",
      "[ 3.  4. -5.]\n"
     ]
    }
   ],
   "source": [
    "def preconditioned_conjugated_gradient(A, b, M = None, x0 = None, e = 1e-5, max_i = 10):\n",
    "    n = len(b)\n",
    "    \n",
    "    x = np.zeros(n) if x0 is None else x0\n",
    "    r = b - np.dot(A, x)\n",
    "\n",
    "    w = r if M is None else np.linalg.solve(M, r)\n",
    "    v = w.copy() if M is None else np.linalg.solve(M, w)\n",
    "    \n",
    "    alpha = np.dot(w, w)\n",
    "    \n",
    "    for j in range(max_i):\n",
    "        if np.linalg.norm(v) < e: break\n",
    "        \n",
    "        u = np.dot(A, v)\n",
    "        t = alpha / np.dot(v, u)\n",
    "\n",
    "        x += t * v\n",
    "        r -= t * u\n",
    "\n",
    "        w = r if M is None else np.linalg.solve(M, r)\n",
    "        \n",
    "        beta = np.dot(w, w)\n",
    "        s = beta / alpha\n",
    "        alpha = beta\n",
    "\n",
    "        v = w + s * v    \n",
    "\n",
    "        if np.linalg.norm(r) < e: break\n",
    "    return x, j + 1\n",
    "\n",
    "A = np.array([[4,3,0.0],\n",
    "              [3,4,-1],\n",
    "              [0,-1,4]])\n",
    "b = np.array([24,30,-24])\n",
    "\n",
    "x, iters = preconditioned_conjugated_gradient(A, b)\n",
    "\n",
    "print(iters)\n",
    "print(x)"
   ]
  }
 ],
 "metadata": {
  "kernelspec": {
   "display_name": "Python 3",
   "language": "python",
   "name": "python3"
  },
  "language_info": {
   "codemirror_mode": {
    "name": "ipython",
    "version": 3
   },
   "file_extension": ".py",
   "mimetype": "text/x-python",
   "name": "python",
   "nbconvert_exporter": "python",
   "pygments_lexer": "ipython3",
   "version": "3.9.13"
  },
  "orig_nbformat": 4
 },
 "nbformat": 4,
 "nbformat_minor": 2
}
