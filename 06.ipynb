{
 "cells": [
  {
   "cell_type": "code",
   "execution_count": 10,
   "metadata": {},
   "outputs": [],
   "source": [
    "import numpy as np\n",
    "\n",
    "A = np.array([[2.0, -1.0, 0.0, 0],\n",
    "              [-1.0, 2.0, -1.0, 0],\n",
    "              [0.0, -1.0, 2.0, -1],\n",
    "              [0,0,-1,2]])\n",
    "b = np.array([1.0, 0, 0,1.0])"
   ]
  },
  {
   "cell_type": "markdown",
   "metadata": {},
   "source": [
    "**Eliminação de Gauss**"
   ]
  },
  {
   "cell_type": "code",
   "execution_count": 11,
   "metadata": {},
   "outputs": [
    {
     "name": "stdout",
     "output_type": "stream",
     "text": [
      "[1. 1. 1. 1.]\n",
      "[1. 1. 1. 1.]\n"
     ]
    }
   ],
   "source": [
    "def solve_t(A, b , method = 'backward'):\n",
    "    n = len(b)\n",
    "    x = np.zeros(n)\n",
    "    \n",
    "    if method == 'forward':\n",
    "        for i in range(n):\n",
    "            sum_terms = sum(A[i, j] * x[j] for j in range(i))\n",
    "            x[i] = (b[i] - sum_terms) / A[i, i]\n",
    "    \n",
    "    elif method == 'backward':\n",
    "        for i in range(n-1, -1, -1):\n",
    "            sum_terms = sum(A[i, j] * x[j] for j in range(i+1, n))\n",
    "            x[i] = (b[i] - sum_terms) / A[i, i]\n",
    "    \n",
    "    return x\n",
    "\n",
    "def triangulate(A, b, method = 'upper'):\n",
    "    n = len(A)\n",
    "\n",
    "    if method == 'upper':\n",
    "        for i, j in ((i, j) for i in range(n-1) for j in range(i+1, n)):\n",
    "            m = A[j, i] / A[i, i]\n",
    "            A[j] -= m * A[i]\n",
    "            b[j] -= m * b[i]\n",
    "\n",
    "    elif method == 'lower':\n",
    "        for i, j in ((i, j) for i in range(n-1, 0, -1) for j in range(i)):\n",
    "            m = A[j, i] / A[i, i]\n",
    "            A[j] -= m * A[i]\n",
    "            b[j] -= m * b[i]\n",
    "\n",
    "    return A, b\n",
    "\n",
    "\n",
    "A1, b1 = triangulate(A.copy(), b.copy(), 'upper')\n",
    "x1 = solve_t(A1, b1, 'backward')\n",
    "\n",
    "A2, b2 = triangulate(A.copy(), b.copy(), 'lower')\n",
    "x2 = solve_t(A2, b2, 'forward')\n",
    "\n",
    "print(x1)\n",
    "print(x2)"
   ]
  },
  {
   "cell_type": "markdown",
   "metadata": {},
   "source": [
    "**Eliminação de Gauss com pivoteamento parcial**"
   ]
  },
  {
   "cell_type": "code",
   "execution_count": 12,
   "metadata": {},
   "outputs": [
    {
     "name": "stdout",
     "output_type": "stream",
     "text": [
      "[1. 1. 1. 1.]\n"
     ]
    }
   ],
   "source": [
    "def partial_pivoting(A, b):\n",
    "    n = len(A)\n",
    "\n",
    "    for i in range(n-1):\n",
    "        max_index = np.argmax(np.abs(A[i:n, i])) + i\n",
    "        if max_index != i:\n",
    "            A[[i, max_index]] = A[[max_index, i]]\n",
    "            b[[i, max_index]] = b[[max_index, i]]\n",
    "\n",
    "        for j in range(i+1, n):\n",
    "            m = A[j, i] / A[i, i]\n",
    "            A[j] -= m * A[i]\n",
    "            b[j] -= m * b[i]\n",
    "\n",
    "    return A, b\n",
    "\n",
    "A1, b1 = partial_pivoting(A.copy(), b.copy())\n",
    "x = solve_t(A1, b1)\n",
    "\n",
    "print(x)\n"
   ]
  },
  {
   "cell_type": "markdown",
   "metadata": {},
   "source": [
    "**Eliminação de Gauss com pivoteamento parcial com escala**"
   ]
  },
  {
   "cell_type": "code",
   "execution_count": 13,
   "metadata": {},
   "outputs": [
    {
     "name": "stdout",
     "output_type": "stream",
     "text": [
      "[1. 1. 1. 1.]\n"
     ]
    }
   ],
   "source": [
    "def scaled_partial_pivoting(A, b):\n",
    "    n = len(A)\n",
    "\n",
    "    scale = np.max(np.abs(A), axis = 1)\n",
    "\n",
    "    for i in range(n-1):\n",
    "        pivot = np.abs(A[i:n, i]) / scale[i:n]\n",
    "        max_index = np.argmax(pivot) + i\n",
    "        \n",
    "        if max_index != i:\n",
    "            A[[i, max_index]] = A[[max_index, i]]\n",
    "            b[[i, max_index]] = b[[max_index, i]]\n",
    "            scale[[i, max_index]] = scale[[max_index, i]]\n",
    "\n",
    "        for j in range(i+1, n):\n",
    "            m = A[j, i] / A[i, i]\n",
    "            A[j] -= m * A[i]\n",
    "            b[j] -= m * b[i]\n",
    "\n",
    "    return A, b\n",
    "\n",
    "A1, b1 = scaled_partial_pivoting(A.copy(), b.copy())\n",
    "x = solve_t(A1, b1)\n",
    "\n",
    "print(x)"
   ]
  },
  {
   "cell_type": "markdown",
   "metadata": {},
   "source": [
    "**Determinante de uma Matriz**"
   ]
  },
  {
   "cell_type": "code",
   "execution_count": 14,
   "metadata": {},
   "outputs": [
    {
     "name": "stdout",
     "output_type": "stream",
     "text": [
      "5.0\n"
     ]
    }
   ],
   "source": [
    "def determinant(A):\n",
    "    n = len(A)\n",
    "    det = 1.0\n",
    "    for i in range(n):\n",
    "        det *= A[i][i]\n",
    "    return det\n",
    "\n",
    "print(determinant(A1))"
   ]
  },
  {
   "cell_type": "markdown",
   "metadata": {},
   "source": [
    "**Fatoração $LU$**"
   ]
  },
  {
   "cell_type": "code",
   "execution_count": 15,
   "metadata": {},
   "outputs": [
    {
     "name": "stdout",
     "output_type": "stream",
     "text": [
      "[1. 1. 1. 1.]\n"
     ]
    }
   ],
   "source": [
    "def LU(A):\n",
    "    n = len(A)\n",
    "    U = np.zeros((n, n))\n",
    "    L = np.identity(n)\n",
    "    for m in range(n):\n",
    "        for j in range(m, n):\n",
    "            U[m, j] = A[m, j] - np.sum(L[m, 0:m] * U[0:m, j])\n",
    "        for i in range(m + 1, n):\n",
    "            L[i, m] = (A[i, m] - np.sum(L[i, 0:m] * U[0:m, m])) / U[m, m]\n",
    "    return L, U\n",
    "\n",
    "L, U = LU(A.copy())\n",
    "y = solve_t(L,b, 'forward')\n",
    "x = solve_t(U, y)\n",
    "\n",
    "print(x)"
   ]
  },
  {
   "cell_type": "markdown",
   "metadata": {},
   "source": [
    "**Fatoração $LDL^{T}$**"
   ]
  },
  {
   "cell_type": "code",
   "execution_count": 16,
   "metadata": {},
   "outputs": [
    {
     "name": "stdout",
     "output_type": "stream",
     "text": [
      "[1. 1. 1. 1.]\n"
     ]
    }
   ],
   "source": [
    "def LDL(A):\n",
    "    n = len(A)\n",
    "    L = np.identity(n)\n",
    "    D = np.zeros(n)\n",
    "\n",
    "    for j in range(n):\n",
    "        D[j] = A[j, j] - np.sum(L[j, :j] ** 2 * D[:j])\n",
    "\n",
    "        for i in range(j + 1, n):\n",
    "            L[i, j] = (A[i, j] - np.sum(L[i, :j] * L[j, :j] * D[:j])) / D[j]\n",
    "\n",
    "    return L, D\n",
    "\n",
    "L, D = LDL(A.copy())\n",
    "\n",
    "y = solve_t(L, b, 'forward')\n",
    "\n",
    "x = solve_t(L.T, y/D)\n",
    "\n",
    "print(x)"
   ]
  },
  {
   "cell_type": "markdown",
   "metadata": {},
   "source": [
    "**Fatoração de Cholesky**"
   ]
  },
  {
   "cell_type": "code",
   "execution_count": 17,
   "metadata": {},
   "outputs": [
    {
     "name": "stdout",
     "output_type": "stream",
     "text": [
      "[1. 1. 1. 1.]\n"
     ]
    }
   ],
   "source": [
    "def cholesky(A):\n",
    "    n = len(A)\n",
    "    L = np.zeros((n, n))\n",
    "\n",
    "    for i in range(n):\n",
    "        L[i, i] = np.sqrt(A[i, i] - np.sum(L[i, :i] ** 2))\n",
    "\n",
    "        for j in range(i + 1, n):\n",
    "            L[j, i] = (A[j, i] - np.sum(L[j, :i] * L[i, :i])) / L[i, i]\n",
    "\n",
    "    return L\n",
    "\n",
    "L = cholesky(A.copy())\n",
    "\n",
    "y = solve_t(L, b, 'forward')\n",
    "\n",
    "x = solve_t(L.T, y)\n",
    "\n",
    "print(x)\n"
   ]
  },
  {
   "cell_type": "markdown",
   "metadata": {},
   "source": [
    "**Fatoração de Crout para sistemas tridiagonais**"
   ]
  },
  {
   "cell_type": "code",
   "execution_count": 18,
   "metadata": {},
   "outputs": [
    {
     "name": "stdout",
     "output_type": "stream",
     "text": [
      "[1. 1. 1. 1.]\n"
     ]
    }
   ],
   "source": [
    "def crout(A):\n",
    "    n = len(A)\n",
    "    L = np.zeros((n, n))\n",
    "    U = np.identity(n) \n",
    "\n",
    "    L[0, 0] = A[0, 0]\n",
    "\n",
    "    for i in range(1, n):\n",
    "        U[i-1, i] = A[i-1, i] / L[i-1, i-1] \n",
    "        L[i, i-1] = A[i, i-1]\n",
    "        L[i, i] = A[i, i] - U[i-1, i] * L[i, i-1]\n",
    "\n",
    "    return L, U\n",
    "\n",
    "L, U = crout(A.copy())\n",
    "\n",
    "z = solve_t(L, b, 'forward')\n",
    "x = solve_t(U, z)\n",
    "\n",
    "print(x)"
   ]
  }
 ],
 "metadata": {
  "kernelspec": {
   "display_name": "Python 3",
   "language": "python",
   "name": "python3"
  },
  "language_info": {
   "codemirror_mode": {
    "name": "ipython",
    "version": 3
   },
   "file_extension": ".py",
   "mimetype": "text/x-python",
   "name": "python",
   "nbconvert_exporter": "python",
   "pygments_lexer": "ipython3",
   "version": "3.9.13"
  },
  "orig_nbformat": 4
 },
 "nbformat": 4,
 "nbformat_minor": 2
}
