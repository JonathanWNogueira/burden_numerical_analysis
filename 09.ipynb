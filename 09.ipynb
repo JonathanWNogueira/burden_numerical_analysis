{
 "cells": [
  {
   "cell_type": "code",
   "execution_count": 184,
   "metadata": {},
   "outputs": [],
   "source": [
    "import numpy as np\n",
    "\n",
    "def round_matrix(A, r):\n",
    "    return np.array([[round(element, r) for element in row] for row in A]) "
   ]
  },
  {
   "cell_type": "markdown",
   "metadata": {},
   "source": [
    "**Método da Potência**"
   ]
  },
  {
   "cell_type": "code",
   "execution_count": 185,
   "metadata": {},
   "outputs": [
    {
     "name": "stdout",
     "output_type": "stream",
     "text": [
      "6.000052316760543\n",
      "[ 1.          0.71428945 -0.24998691]\n"
     ]
    }
   ],
   "source": [
    "def power_method(A, x , e = 1e-5, max_i = 100):   \n",
    "\n",
    "    p = np.argmax(x)\n",
    "    \n",
    "    x = x / x[p]\n",
    "    \n",
    "    for i in range(max_i):\n",
    "        y = np.dot(A, x)\n",
    "        \n",
    "        v = y[p]\n",
    "        \n",
    "        p = np.argmax(y)\n",
    "        \n",
    "        if np.linalg.norm(x - y / y[p]) < e: break\n",
    "        \n",
    "        x = y / y[p]\n",
    "\n",
    "    return v, x\n",
    "\n",
    "A = np.array([[-4, 14, 0], [-5, 13, 0], [-1, 0, 2]])\n",
    "x = np.array([1, 1, 1])  \n",
    "\n",
    "eigenvalue, eigenvector = power_method(A, x)\n",
    "\n",
    "print(eigenvalue)\n",
    "print(eigenvector)\n"
   ]
  },
  {
   "cell_type": "markdown",
   "metadata": {},
   "source": [
    "**Método da Potência Simétrico**"
   ]
  },
  {
   "cell_type": "code",
   "execution_count": 186,
   "metadata": {},
   "outputs": [
    {
     "name": "stdout",
     "output_type": "stream",
     "text": [
      "5.999999999650752\n",
      "[ 0.57735908 -0.57734586  0.57734586]\n"
     ]
    }
   ],
   "source": [
    "def simetric_power_method(A, x, e = 1e-5, max_i = 100):    \n",
    "    \n",
    "    x = x / np.linalg.norm(x, 2)\n",
    "    \n",
    "    for i in range(max_i):\n",
    "        y = np.dot(A, x)\n",
    "        \n",
    "        v = np.dot(x.T,y)\n",
    "        \n",
    "        if np.linalg.norm(x - y / np.linalg.norm(y, 2), 2) < e: break\n",
    "        \n",
    "        x = y / np.linalg.norm(y, 2)\n",
    "\n",
    "    return v, x\n",
    "\n",
    "A = np.array([[4, -1, 1], [-1, 3, -2], [1, -2, 3]])\n",
    "x = np.array([1, 0, 0]) \n",
    "\n",
    "eigenvalue, eigenvector = simetric_power_method(A, x)\n",
    "\n",
    "print(eigenvalue)\n",
    "print(eigenvector)\n"
   ]
  },
  {
   "cell_type": "markdown",
   "metadata": {},
   "source": [
    "**Método da Potência Inverso**"
   ]
  },
  {
   "cell_type": "code",
   "execution_count": 187,
   "metadata": {},
   "outputs": [
    {
     "name": "stdout",
     "output_type": "stream",
     "text": [
      "6.00000171428669\n",
      "[ 1.          0.71428694 -0.24999543]\n"
     ]
    }
   ],
   "source": [
    "def inverse_power_method(A, x, e = 1e-5, max_i = 100):\n",
    "    q = np.dot(x.T, np.dot(A, x)) / np.dot(x.T, x)\n",
    "    p = np.argmax(np.abs(x))\n",
    "\n",
    "    x = x / x[p]\n",
    "    \n",
    "    for i in range(max_i):\n",
    "        y = np.linalg.solve(A - q * np.eye(len(A)), x)\n",
    " \n",
    "        v = y[p]\n",
    "        \n",
    "        p = np.argmax(np.abs(y))\n",
    "        \n",
    "        if np.linalg.norm(x - y / y[p]) < e: break\n",
    "\n",
    "        x = y / y[p]\n",
    "\n",
    "    v = 1/v + q\n",
    "    return v, x\n",
    "\n",
    "A = np.array([[-4, 14, 0], [-5, 13, 0], [-1, 0, 2]])\n",
    "x = np.array([1, 1, 1])  \n",
    "\n",
    "eigenvalue, eigenvector = inverse_power_method(A, x)\n",
    "\n",
    "print(eigenvalue)\n",
    "print(eigenvector)"
   ]
  },
  {
   "cell_type": "markdown",
   "metadata": {},
   "source": [
    "**Deflação de Wielandt**"
   ]
  },
  {
   "cell_type": "code",
   "execution_count": 188,
   "metadata": {},
   "outputs": [
    {
     "name": "stdout",
     "output_type": "stream",
     "text": [
      "[6.000000000000002, 2.9999999998982734, 1.0000000003051783]\n",
      "[array([ 0.57735027, -0.57735027,  0.57735027]), array([ 0.81649658,  0.40825333, -0.40824325]), array([-1.74693478e-05,  7.07098046e-01,  7.07115516e-01])]\n"
     ]
    }
   ],
   "source": [
    "def wielandt(A,  x0, max_i):\n",
    "    evalues = []\n",
    "    evectors = []\n",
    "\n",
    "    A2 = A.copy()\n",
    "\n",
    "    for i in range(max_i):\n",
    "        eigenvalue, eigenvector = simetric_power_method(A2, x0)\n",
    "        evalues.append(eigenvalue)\n",
    "        evectors.append(eigenvector)\n",
    "\n",
    "        eigenvector = eigenvector.reshape(-1, 1)\n",
    "        A2 = A2 - eigenvalue * np.dot(eigenvector, eigenvector.T)\n",
    "\n",
    "        x0 = np.random.rand(len(x0))\n",
    "        for v in evectors:\n",
    "            x0 = x0 - np.dot(x0, v) * v\n",
    "        x0 = x0 / np.linalg.norm(x0, 2)\n",
    "\n",
    "    return evalues, evectors\n",
    "\n",
    "A = np.array([[4, -1, 1], [-1, 3, -2], [1, -2, 3]])\n",
    "x = np.array([1, -1, 1]) \n",
    "\n",
    "eigenvalue, eigenvector = wielandt(A, x, 3)\n",
    "\n",
    "print(eigenvalue)\n",
    "print(eigenvector)\n"
   ]
  },
  {
   "cell_type": "markdown",
   "metadata": {},
   "source": [
    "**Método de Householder**"
   ]
  },
  {
   "cell_type": "code",
   "execution_count": 189,
   "metadata": {},
   "outputs": [
    {
     "name": "stdout",
     "output_type": "stream",
     "text": [
      "[[ 4.      -3.       0.      -0.     ]\n",
      " [-3.       3.33333 -1.66667  0.     ]\n",
      " [ 0.      -1.66667 -1.32     0.90667]\n",
      " [-0.      -0.       0.90667  1.98667]]\n"
     ]
    }
   ],
   "source": [
    "def householder(A):\n",
    "    n = len(A)\n",
    "    T = A.copy()\n",
    "\n",
    "    for k in range(n-2):\n",
    "        x = T[k+1:, k]\n",
    "        \n",
    "        v = x.copy()\n",
    "        v[0] += np.sign(x[0]) * np.linalg.norm(x)\n",
    "        v = v / np.linalg.norm(v)\n",
    "\n",
    "        H = np.eye(n-k-1) - 2.0 * np.outer(v, v)\n",
    "\n",
    "        T[k+1:, k:] = np.dot(H, T[k+1:, k:])\n",
    "        T[:, k+1:] = np.dot(T[:, k+1:], H)\n",
    "    return T\n",
    "\n",
    "A = np.array([[4.0, 1.0, -2.0, 2.0],\n",
    "              [1.0, 2.0, 0.0, 1.0],\n",
    "              [-2.0, 0.0, 3.0, -2.0],\n",
    "              [2.0, 1.0, -2.0, -1.0]])\n",
    "\n",
    "T = householder(A)\n",
    "print(round_matrix(T, 5))\n"
   ]
  },
  {
   "cell_type": "markdown",
   "metadata": {},
   "source": [
    "**Método $QR$**"
   ]
  },
  {
   "cell_type": "code",
   "execution_count": 190,
   "metadata": {},
   "outputs": [
    {
     "name": "stdout",
     "output_type": "stream",
     "text": [
      "[ 6.84462111  2.26853141  1.08436446 -2.19751698]\n"
     ]
    }
   ],
   "source": [
    "def gram_schmidt(A):\n",
    "    Q = np.zeros_like(A)\n",
    "    temp_vector = np.zeros_like(A)\n",
    "\n",
    "    Q[:, 0] = A[:, 0] / np.linalg.norm(A[:, 0], ord=2)\n",
    "\n",
    "    for i in range(1, len(A)):\n",
    "        q = Q[:, :i]\n",
    "        temp_vector = np.sum(np.sum(q * A[:, i, None], axis=0) * q, axis=1)\n",
    "        Q[:, i] = A[:, i] - temp_vector\n",
    "        Q[:, i] /= np.linalg.norm(Q[:, i], ord = 2)\n",
    "    return Q\n",
    "\n",
    "def QR(A):\n",
    "    Q = gram_schmidt(A)\n",
    "    R = Q.T @ A\n",
    "    return (Q, R)\n",
    "\n",
    "def _2x2(A):\n",
    "    b = -(A[-1, -1] + A[-2, -2])\n",
    "    c = A[-1, -1] * A[-2, -2] - A[-2, -1] * A[-1, -2]\n",
    "    d = np.sqrt(b ** 2 - 4 * c)\n",
    "\n",
    "    return ( -2*c/(b + d), -(b + d)/2) if b > 0 else ( (d - b)/2 , 2*c/(d - b))\n",
    "\n",
    "\n",
    "def QR_eigenvalues(T, e = 1e-5 , max_i = 100):\n",
    "    n = len(T)\n",
    "    v = np.zeros(n)\n",
    "    A = T.copy()\n",
    "\n",
    "    for i in range(max_i):\n",
    "        if np.abs(A[-1, -2]) <= e:\n",
    "            n -= 1\n",
    "            v[n] = A[-1, -1]\n",
    "            A = A[:-1, :-1]\n",
    "\n",
    "        v1, v2 = _2x2(A)\n",
    "\n",
    "        if n == 2:\n",
    "            v[0], v[1] = v1, v2\n",
    "            break\n",
    "\n",
    "        p = np.argmin([v1 - A[-1, -1], v2 - A[-1, -1]])\n",
    "\n",
    "        a = v1 if p == 0 else v2\n",
    "\n",
    "        I = np.eye(n)\n",
    "        Q, R = QR(A - a * I)\n",
    "        A = R @ Q + a * I\n",
    "    return v\n",
    "\n",
    "A = np.array([[4.0, 1.0, -2.0, 2.0],\n",
    "              [1.0, 2.0, 0.0, 1.0],\n",
    "              [-2.0, 0.0, 3.0, -2.0],\n",
    "              [2.0, 1.0, -2.0, -1.0]])\n",
    "\n",
    "T = QR_eigenvalues(householder(A))\n",
    "print(T)"
   ]
  },
  {
   "cell_type": "markdown",
   "metadata": {},
   "source": [
    "**Decomposição $USV^{T}$**"
   ]
  },
  {
   "cell_type": "code",
   "execution_count": 191,
   "metadata": {},
   "outputs": [
    {
     "name": "stdout",
     "output_type": "stream",
     "text": [
      "[[ 3.  1.  0.]\n",
      " [ 1.  3.  1.]\n",
      " [-0.  1.  3.]]\n"
     ]
    }
   ],
   "source": [
    "def USV(T):\n",
    "    A = T.copy()\n",
    "    evaluesU, U = np.linalg.eigh(A @ A.T)\n",
    "\n",
    "    idx = np.argsort(evaluesU)[::-1]\n",
    "    evaluesU = evaluesU[idx]\n",
    "    U = U[:, idx]\n",
    "\n",
    "    i = np.arange(len(A))\n",
    "    S[i, i] = np.sqrt(evaluesU)\n",
    "\n",
    "    evaluesV, V = np.linalg.eigh(A.T @ A)\n",
    "\n",
    "    idx = np.argsort(evaluesV)[::-1]\n",
    "    evaluesV = evaluesV[idx]\n",
    "    V = V[:, idx]\n",
    "\n",
    "    return U, S, V.T\n",
    "\n",
    "A = np.array([[3, 1.0, 0],\n",
    "              [1, 3.0, 1],\n",
    "              [0, 1.0, 3]])\n",
    "\n",
    "U, S, VT = USV(A)\n",
    "\n",
    "T = U @ S @ VT\n",
    "\n",
    "print(round_matrix(T, 5))"
   ]
  }
 ],
 "metadata": {
  "kernelspec": {
   "display_name": "Python 3",
   "language": "python",
   "name": "python3"
  },
  "language_info": {
   "codemirror_mode": {
    "name": "ipython",
    "version": 3
   },
   "file_extension": ".py",
   "mimetype": "text/x-python",
   "name": "python",
   "nbconvert_exporter": "python",
   "pygments_lexer": "ipython3",
   "version": "3.9.13"
  },
  "orig_nbformat": 4
 },
 "nbformat": 4,
 "nbformat_minor": 2
}
