{
 "cells": [
  {
   "cell_type": "code",
   "execution_count": 1,
   "metadata": {},
   "outputs": [],
   "source": [
    "import cmath\n",
    "import numpy as np\n",
    "import sympy as sp\n",
    "\n",
    "e = 1e-5"
   ]
  },
  {
   "cell_type": "markdown",
   "metadata": {},
   "source": [
    "**Método da Bisseção**"
   ]
  },
  {
   "cell_type": "code",
   "execution_count": 2,
   "metadata": {},
   "outputs": [
    {
     "name": "stdout",
     "output_type": "stream",
     "text": [
      "Método da Bisseção:  0.99999\n"
     ]
    }
   ],
   "source": [
    "def bisec(f, e, x0, x1):\n",
    "    a, b = x0 , x1\n",
    "    error = 1\n",
    "    xant = 100\n",
    "    while error > e:\n",
    "        x = (a+b)/2\n",
    "        if f(x)*f(a)>0:\n",
    "            a = x\n",
    "        else:\n",
    "            b = x\n",
    "        error = abs(x-xant)/abs(x) \n",
    "        xant = x\n",
    "    return x\n",
    "\n",
    "f = lambda x: x**2 - 3*x + 2\n",
    "\n",
    "x = bisec(f, e, 0, 4)\n",
    "\n",
    "print(\"Método da Bisseção: \",round(x,5))"
   ]
  },
  {
   "cell_type": "markdown",
   "metadata": {},
   "source": [
    "**Método do Ponto Fixo**"
   ]
  },
  {
   "cell_type": "code",
   "execution_count": 3,
   "metadata": {},
   "outputs": [
    {
     "name": "stdout",
     "output_type": "stream",
     "text": [
      "Método do Ponto Fixo:  0.99998\n"
     ]
    }
   ],
   "source": [
    "def fixed_p(f, e, x0):\n",
    "    x, xant = x0, 100\n",
    "    error = 1\n",
    "    while error > e:\n",
    "        x = f(x)\n",
    "        error = abs(x-xant)/abs(x)\n",
    "        xant = x\n",
    "    return x\n",
    "\n",
    "g = lambda x: (x**2 + 2)/3\n",
    "\n",
    "x = fixed_p(g, e, 0)\n",
    "\n",
    "print(\"Método do Ponto Fixo: \",round(x,5))"
   ]
  },
  {
   "cell_type": "markdown",
   "metadata": {},
   "source": [
    "**Método de Newton**"
   ]
  },
  {
   "cell_type": "code",
   "execution_count": 4,
   "metadata": {},
   "outputs": [
    {
     "name": "stdout",
     "output_type": "stream",
     "text": [
      "Método de Newton:  1.0\n"
     ]
    }
   ],
   "source": [
    "def diff(f):\n",
    "    x = sp.symbols('x')\n",
    "    df = sp.diff(f(x), x)\n",
    "    df = sp.lambdify(x, df)\n",
    "    return df\n",
    "\n",
    "def newton(f, df, e, x0):\n",
    "    xant = x0\n",
    "    error = 1\n",
    "    while error > e:\n",
    "        x = xant - f(xant)/df(xant)\n",
    "        error = abs(x-xant)/abs(x)\n",
    "        xant = x\n",
    "    return xant\n",
    "\n",
    "f = lambda x: x**2 - 3*x + 2\n",
    "\n",
    "x = newton(f, diff(f), e, 0)\n",
    "\n",
    "print(\"Método de Newton: \",round(x,5))\n"
   ]
  },
  {
   "cell_type": "markdown",
   "metadata": {},
   "source": [
    "**Método da Secante**"
   ]
  },
  {
   "cell_type": "code",
   "execution_count": 5,
   "metadata": {},
   "outputs": [
    {
     "name": "stdout",
     "output_type": "stream",
     "text": [
      "Método da Secante:  1.0\n"
     ]
    }
   ],
   "source": [
    "def secant(f, e, x0, x1):\n",
    "    error = 1    \n",
    "    while error > e:\n",
    "        x2 = x1 - f(x1)*(x1-x0)/(f(x1)-f(x0))\n",
    "        error = abs(x2-x1)/abs(x2)\n",
    "        x0 = x1\n",
    "        x1 = x2\n",
    "    return x2\n",
    "\n",
    "f = lambda x: x**2 - 3*x + 2\n",
    "\n",
    "x = secant(f, e, 0.5, 3.5)\n",
    "\n",
    "print(\"Método da Secante: \", round(x, 5))\n"
   ]
  },
  {
   "cell_type": "markdown",
   "metadata": {},
   "source": [
    "**Método da Falsa Posição**"
   ]
  },
  {
   "cell_type": "code",
   "execution_count": 6,
   "metadata": {},
   "outputs": [
    {
     "name": "stdout",
     "output_type": "stream",
     "text": [
      "Método da Falsa Posição:  1.0\n"
     ]
    }
   ],
   "source": [
    "def false_pos(f, e, x0, x1):\n",
    "    if f(x0) * f(x1) >= 0:\n",
    "        return \n",
    "    error = 1\n",
    "    while error > e:\n",
    "        x2 = x1 - f(x1)*(x1-x0)/(f(x1)-f(x0))\n",
    "        if f(x0) * f(x2) < 0:\n",
    "            x1 = x2\n",
    "        else:\n",
    "            x0 = x2\n",
    "        error = abs(x1 - x0) / abs(x2)\n",
    "    return x2\n",
    "\n",
    "f = lambda x: x**2 - 3*x + 2\n",
    "\n",
    "x = false_pos(f, e, -1, 1.5)\n",
    "\n",
    "print(\"Método da Falsa Posição: \", round(x, 5))\n"
   ]
  },
  {
   "cell_type": "markdown",
   "metadata": {},
   "source": [
    "**Método de Steffensen**"
   ]
  },
  {
   "cell_type": "code",
   "execution_count": 7,
   "metadata": {},
   "outputs": [
    {
     "name": "stdout",
     "output_type": "stream",
     "text": [
      "Método de Steffensen:  0.99687\n"
     ]
    }
   ],
   "source": [
    "def steffensen(f, e, x0):\n",
    "    error = 1\n",
    "    xant = x0\n",
    "    g = lambda x: f(x + f(x))/f(x)\n",
    "    while error > e:\n",
    "        x = xant - (f(xant)**2)/(g(xant)-1)\n",
    "        error = abs(x - xant)/abs(x)\n",
    "        xant = x\n",
    "    return xant\n",
    "\n",
    "f = lambda x: x**2 - 3*x + 2\n",
    "\n",
    "x = steffensen(f, e, 0)\n",
    "\n",
    "print(\"Método de Steffensen: \", round(x, 5))\n"
   ]
  },
  {
   "cell_type": "markdown",
   "metadata": {},
   "source": [
    "**Método de Horner**"
   ]
  },
  {
   "cell_type": "code",
   "execution_count": 8,
   "metadata": {},
   "outputs": [
    {
     "name": "stdout",
     "output_type": "stream",
     "text": [
      "p(3) = 2\n",
      "dp(3) = 3\n"
     ]
    }
   ],
   "source": [
    "def horner(c, x):\n",
    "    n = len(c)\n",
    "    p = c[0]\n",
    "    dp = c[0]\n",
    "    for i in range(1, n):\n",
    "        dp = dp * x + p\n",
    "        p = p * x + c[i]\n",
    "    return p, dp\n",
    "\n",
    "# 0*x^3 + 1*x^2 - 3*x + 2\n",
    "c = [0, 1, -3, 2]\n",
    "\n",
    "x = 3\n",
    "\n",
    "fx, dfx = horner(c, x)\n",
    "\n",
    "print(\"p({}) = {}\".format(x, fx))\n",
    "print(\"dp({}) = {}\".format(x, dfx))\n"
   ]
  },
  {
   "cell_type": "markdown",
   "metadata": {},
   "source": [
    "**Método de Müller**"
   ]
  },
  {
   "cell_type": "code",
   "execution_count": 9,
   "metadata": {},
   "outputs": [
    {
     "name": "stdout",
     "output_type": "stream",
     "text": [
      "Raiz encontrada pelo Método de Müller:  -1j\n"
     ]
    }
   ],
   "source": [
    "def muller(f, e, x0, x1, x2):\n",
    "    x = x2  \n",
    "    error = 1\n",
    "    \n",
    "    while error > e:\n",
    "        h1 = x1 - x0\n",
    "        h2 = x2 - x1\n",
    "\n",
    "        delta1 = (f(x1) - f(x0)) / h1\n",
    "        delta2 = (f(x2) - f(x1)) / h2\n",
    "\n",
    "        d = (delta2 - delta1) / (h2 + h1)\n",
    "        b = delta2 + h2 * d\n",
    "        \n",
    "        D = cmath.sqrt(b**2 - 4 * f(x2) * d)\n",
    "        E = b + D if abs(b - D) < abs(b + D) else b - D\n",
    "        \n",
    "        h = -2 * f(x2) / E\n",
    "        \n",
    "        x3 = x2 + h\n",
    "        error = abs(x3-x)/abs(x3)\n",
    "        x0, x1, x2 = x1, x2, x3\n",
    "        x = x3\n",
    "    return x3\n",
    "\n",
    "f = lambda x: x**2 + 1\n",
    "\n",
    "raiz = muller(f, e, -1, 0, 1)\n",
    "\n",
    "print(\"Raiz encontrada pelo Método de Müller: \", raiz)\n"
   ]
  }
 ],
 "metadata": {
  "kernelspec": {
   "display_name": "Python 3",
   "language": "python",
   "name": "python3"
  },
  "language_info": {
   "codemirror_mode": {
    "name": "ipython",
    "version": 3
   },
   "file_extension": ".py",
   "mimetype": "text/x-python",
   "name": "python",
   "nbconvert_exporter": "python",
   "pygments_lexer": "ipython3",
   "version": "3.9.13"
  },
  "orig_nbformat": 4
 },
 "nbformat": 4,
 "nbformat_minor": 2
}
